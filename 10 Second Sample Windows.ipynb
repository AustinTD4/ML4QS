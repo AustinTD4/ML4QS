{
 "cells": [
  {
   "cell_type": "code",
   "execution_count": 22,
   "metadata": {},
   "outputs": [],
   "source": [
    "import os\n",
    "import pandas as pd\n",
    "import csv\n",
    "import matplotlib.pyplot as plt\n",
    "import random"
   ]
  },
  {
   "cell_type": "code",
   "execution_count": 35,
   "metadata": {},
   "outputs": [
    {
     "name": "stdout",
     "output_type": "stream",
     "text": [
      "['Georgios Walking Outside 30spm.csv']\n",
      "['Austin Walk Run Cycle.csv']\n",
      "['Austin Walking Inside 90spm.csv']\n",
      "['Austin Biking 90rpm.csv']\n",
      "['Austin Walking Inside 90spm.csv']\n",
      "['Austin Biking 30rpm.csv']\n",
      "['Austin Running 150spm, 10kph.csv']\n",
      "['Austin Biking Variable rpm.csv']\n",
      "['Austin Walking Treadmill, 110, 100, 85spm.csv']\n",
      "['Austin Running 150spm, 10kph.csv']\n"
     ]
    }
   ],
   "source": [
    "def take_sample_window():\n",
    "       Viable_Cols = ['Acceleration x (m/s^2)_kalman', 'Acceleration y (m/s^2)_kalman', 'Acceleration z (m/s^2)_kalman', 'Gyroscope x (rad/s)_kalman',\n",
    "              'Gyroscope y (rad/s)_kalman', 'Gyroscope z (rad/s)_kalman', 'Linear Acceleration x (m/s^2)_kalman',\n",
    "              'Linear Acceleration y (m/s^2)_kalman', 'Linear Acceleration z (m/s^2)_kalman']\n",
    "       col = random.sample(Viable_Cols, 1)\n",
    "       files = os.listdir('./Group_71_Data_Kalman')\n",
    "       file = random.sample(files, 1)\n",
    "       print(file)\n",
    "       frame = pd.read_csv('./Group_71_Data_Kalman/'+file[0])\n",
    "       start = random.randint(100,len(frame['Acceleration x (m/s^2)'])-200)\n",
    "       fig, axs = plt.subplots(3)\n",
    "       axs[0].plot(range(start,start+200),frame['Acceleration x (m/s^2)_kalman'][start:start+200], label='x')\n",
    "       axs[0].plot(range(start,start+200),frame['Acceleration y (m/s^2)_kalman'][start:start+200], label='y')\n",
    "       axs[0].plot(range(start,start+200),frame['Acceleration z (m/s^2)_kalman'][start:start+200], label='z')\n",
    "       axs[0].set_title(\"Acceleration\")\n",
    "       axs[0].legend(loc='upper left')\n",
    "       axs[1].plot(range(start,start+200),frame['Gyroscope x (rad/s)_kalman'][start:start+200], label='x')\n",
    "       axs[1].plot(range(start,start+200),frame['Gyroscope y (rad/s)_kalman'][start:start+200], label='y')\n",
    "       axs[1].plot(range(start,start+200),frame['Gyroscope z (rad/s)_kalman'][start:start+200], label='z')\n",
    "       axs[1].set_title(\"Gyroscope\")\n",
    "       axs[1].legend(loc='upper left')\n",
    "       axs[2].plot(range(start,start+200),frame['Linear Acceleration x (m/s^2)_kalman'][start:start+200], label='x')\n",
    "       axs[2].plot(range(start,start+200),frame['Linear Acceleration y (m/s^2)_kalman'][start:start+200], label='y')\n",
    "       axs[2].plot(range(start,start+200),frame['Linear Acceleration z (m/s^2)_kalman'][start:start+200], label='z')\n",
    "       axs[2].set_title(\"Linear Acceleration\")\n",
    "       axs[2].legend(loc='upper left')\n",
    "       plt.suptitle(file[0])\n",
    "       plt.show()\n",
    "\n",
    "for i in range(10):\n",
    "       take_sample_window()\n"
   ]
  },
  {
   "cell_type": "code",
   "execution_count": null,
   "metadata": {},
   "outputs": [],
   "source": []
  }
 ],
 "metadata": {
  "kernelspec": {
   "display_name": "ML4QSenv",
   "language": "python",
   "name": "python3"
  },
  "language_info": {
   "codemirror_mode": {
    "name": "ipython",
    "version": 3
   },
   "file_extension": ".py",
   "mimetype": "text/x-python",
   "name": "python",
   "nbconvert_exporter": "python",
   "pygments_lexer": "ipython3",
   "version": "3.8.8"
  },
  "orig_nbformat": 4
 },
 "nbformat": 4,
 "nbformat_minor": 2
}
