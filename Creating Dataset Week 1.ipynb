{
 "cells": [
  {
   "cell_type": "code",
   "execution_count": 2,
   "metadata": {},
   "outputs": [],
   "source": [
    "import os\n",
    "import pandas as pd\n",
    "import csv\n",
    "from pathlib import Path\n",
    "import util\n",
    "from Python3Code.Chapter3.KalmanFilters import KalmanFilters\n",
    "from VisualizeDataset import VisualizeDataset\n",
    "from Python3Code.Chapter2.CreateDataset import CreateDataset\n",
    "import matplotlib.pyplot as plt"
   ]
  },
  {
   "cell_type": "code",
   "execution_count": 4,
   "metadata": {},
   "outputs": [],
   "source": [
    "\n",
    "granularities = [5,.5,.05]\n",
    "DataViz = VisualizeDataset('test_box.py')\n",
    "def make_data_process(columns, fileName, title, granularities):\n",
    "    for granularity in granularities:\n",
    "        kalumns = []\n",
    "        kalman = KalmanFilters()\n",
    "        filePath = Path('./Group_71_Data/')\n",
    "        dataset = CreateDataset(filePath, granularity)\n",
    "        dataset.add_numerical_dataset(fileName, 'timestamps', columns, 'avg', title)\n",
    "        dataFrame = dataset.data_table\n",
    "        for col in columns:\n",
    "            kalumns.append(str(col)+'_kalman')\n",
    "            kalman.apply_kalman_filter(dataFrame, col)\n",
    "        util.print_statistics(dataFrame)\n",
    "        DataViz.plot_dataset_boxplot(dataFrame, kalumns)\n",
    "        for kal in kalumns:\n",
    "            plt.scatter(dataFrame.index,dataFrame[kal])\n",
    "            plt.ylabel(\"Acceleration\")\n",
    "            plt.title(kal)\n",
    "            DataViz.save(plt)\n",
    "            plt.clf()\n",
    "    \n",
    "#make_data_process(['Linear Acceleration x (m/s^2)','Linear Acceleration y (m/s^2)','Linear Acceleration z (m/s^2)'], 'test', 'Georgios Walking.csv', '', granularities)\n",
    "#make_data_process(['x','y','z'], 'Austin Jogging.csv', '', granularities)\n"
   ]
  }
 ],
 "metadata": {
  "kernelspec": {
   "display_name": "ML4QSenv",
   "language": "python",
   "name": "python3"
  },
  "language_info": {
   "codemirror_mode": {
    "name": "ipython",
    "version": 3
   },
   "file_extension": ".py",
   "mimetype": "text/x-python",
   "name": "python",
   "nbconvert_exporter": "python",
   "pygments_lexer": "ipython3",
   "version": "3.8.8"
  },
  "orig_nbformat": 4
 },
 "nbformat": 4,
 "nbformat_minor": 2
}
