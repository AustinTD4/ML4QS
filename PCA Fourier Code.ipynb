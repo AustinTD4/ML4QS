{
 "cells": [
  {
   "cell_type": "code",
   "execution_count": null,
   "metadata": {},
   "outputs": [],
   "source": []
  },
  {
   "cell_type": "code",
   "execution_count": 14,
   "metadata": {},
   "outputs": [],
   "source": [
    "import pandas as pd\n",
    "from sklearn.decomposition import PCA\n",
    "from sklearn.preprocessing import StandardScaler\n",
    "import os\n",
    "import random\n",
    "import copy\n",
    "import matplotlib.pyplot as plt"
   ]
  },
  {
   "cell_type": "code",
   "execution_count": 1,
   "metadata": {},
   "outputs": [],
   "source": [
    "import numpy as np\n",
    "import pandas as pd\n",
    "\n",
    "# This class performs a Fourier transformation on the data to find frequencies that occur\n",
    "# often and filter noise.\n",
    "class FourierTransformation:\n",
    "    \n",
    "    def __init__(self):\n",
    "        self.temp_list = []\n",
    "        self.freqs = None\n",
    "\n",
    "    def find_fft_transformation(self, series):\n",
    "        transformation = np.fft.rfft(series, len(series))\n",
    "        real_ampl = transformation.real\n",
    "        max_freq = self.freqs[np.argmax(real_ampl[0:len(real_ampl)])]\n",
    "        freq_weigthed = float(np.sum(self.freqs * real_ampl)) / np.sum(real_ampl)\n",
    "\n",
    "        PSD = np.divide(np.square(real_ampl), float(len(real_ampl)))\n",
    "        PSD_pdf = np.divide(PSD, np.sum(PSD))\n",
    "\n",
    "        if np.count_nonzero(PSD_pdf) == PSD_pdf.size:\n",
    "            pse = -np.sum(np.log(PSD_pdf) * PSD_pdf)\n",
    "        else:\n",
    "            pse = 0\n",
    "\n",
    "        real_ampl = np.insert(real_ampl, 0, max_freq)\n",
    "        real_ampl = np.insert(real_ampl, 0, freq_weigthed)\n",
    "        row = np.insert(real_ampl, 0, pse)\n",
    "\n",
    "        self.temp_list.append(row)\n",
    "\n",
    "        return 0\n",
    "\n",
    "    def abstract_frequency(self, data_table, columns, window_size, sampling_rate):\n",
    "        self.freqs = (sampling_rate * np.fft.rfftfreq(int(window_size))).round(3)\n",
    "\n",
    "        for col in columns:\n",
    "            collist = []\n",
    "            # prepare column names\n",
    "            collist.append(col + '_max_freq')\n",
    "            collist.append(col + '_freq_weighted')\n",
    "            collist.append(col + '_pse')\n",
    "            \n",
    "            collist = collist + [col + '_freq_' +\n",
    "                    str(freq) + '_Hz_ws_' + str(window_size) for freq in self.freqs]\n",
    "           \n",
    "            # rolling statistics to calculate frequencies, per window size. \n",
    "            # Pandas Rolling method can only return one aggregation value. \n",
    "            # Therefore values are not returned but stored in temp class variable 'temp_list'.\n",
    "\n",
    "            # note to self! Rolling window_size would be nicer and more logical! In older version windowsize is actually 41. (ws + 1)\n",
    "            data_table[col].rolling(\n",
    "                window_size + 1).apply(self.find_fft_transformation)\n",
    "\n",
    "            # Pad the missing rows with nans\n",
    "            frequencies = np.pad(np.array(self.temp_list), ((window_size, 0), (0, 0)),\n",
    "                        'constant', constant_values=np.nan)\n",
    "            # add new freq columns to frame\n",
    "            \n",
    "            data_table[collist] = pd.DataFrame(frequencies, index=data_table.index)\n",
    "\n",
    "            # reset temp-storage array\n",
    "            del self.temp_list[:]\n",
    "            \n",
    "\n",
    "        \n",
    "        return data_table"
   ]
  },
  {
   "cell_type": "code",
   "execution_count": 18,
   "metadata": {},
   "outputs": [],
   "source": [
    "Viable_Cols = ['Acceleration x (m/s^2)_kalman', 'Acceleration y (m/s^2)_kalman', 'Acceleration z (m/s^2)_kalman', 'Gyroscope x (rad/s)_kalman',\n",
    "              'Gyroscope y (rad/s)_kalman', 'Gyroscope z (rad/s)_kalman', 'Linear Acceleration x (m/s^2)_kalman',\n",
    "              'Linear Acceleration y (m/s^2)_kalman', 'Linear Acceleration z (m/s^2)_kalman']\n",
    "files = os.listdir('./Fourrier/')\n",
    "files2 = []\n",
    "for i in range(int(len(files)/10)):\n",
    "    files2.append(files[i*10])\n",
    "for file in files2:\n",
    "    df = pd.read_csv('./Fourrier/'+str(file))\n",
    "    df2 = df[Viable_Cols]\n",
    "    scaler = StandardScaler()\n",
    "    scaled_data = scaler.fit_transform(df2)\n",
    "    pca = PCA(n_components=6)\n",
    "    pcaColumns = pca.fit_transform(scaled_data)\n",
    "    pcaColumns = pd.DataFrame(pcaColumns)\n",
    "    for col in pcaColumns.columns:\n",
    "        df[col] = pcaColumns[col]\n",
    "    df.to_csv('./PCA_STEP/PCA '+str(file))"
   ]
  },
  {
   "cell_type": "code",
   "execution_count": null,
   "metadata": {},
   "outputs": [],
   "source": [
    "fourrier = FourierTransformation()\n",
    "Viable_Cols = ['0', '1', '2', '3', '4', '5']\n",
    "files = os.listdir('./PCA_STEP')\n",
    "milliseconds_per_instance = 50\n",
    "fs = float(1000)/milliseconds_per_instance\n",
    "ws = int(float(10000)/milliseconds_per_instance)\n",
    "for file in files:\n",
    "    print(\"A\")\n",
    "    frame = pd.read_csv('./PCA_STEP/'+str(file))\n",
    "    newFrame = copy.deepcopy(frame)\n",
    "    for column in Viable_Cols:\n",
    "        fourrier.abstract_frequency(newFrame, [column], ws, fs)\n",
    "        newCol = str(column+'_max_freq')\n",
    "        frame[newCol] = newFrame[newCol]\n",
    "        #plt.figure()\n",
    "        #plt.plot(range(len(newFrame[newCol])),newFrame[newCol])\n",
    "        #lt.xlabel(str(file)+\" Fourrier \"+str(column))\n",
    "        #plt.savefig(\"./Fourrier/Fourrier \"+str(file)+\" \"+str(i)+\".png\")\n",
    "    frame.to_csv(\"./PCA Fourrier/Fourrier \"+str(file))"
   ]
  },
  {
   "cell_type": "code",
   "execution_count": 31,
   "metadata": {},
   "outputs": [
    {
     "name": "stdout",
     "output_type": "stream",
     "text": [
      "142.79284397904442\n",
      "142.79284397904442\n"
     ]
    }
   ],
   "source": [
    "#plt.figure()\n",
    "#plt.plot(frame['0_max_freq'])\n",
    "#plt.plot(frame['Gyroscope x (rad/s)_kalman_max_freq'])\n",
    "#plt.show()\n",
    "PCA_Cols = ['0_max_freq', '1_max_freq', '2_max_freq', '3_max_freq', '4_max_freq', '5_max_freq']\n",
    "file = pd.read_csv('./PCA Fourrier/Fourrier PCA Fourrier Austin Running 150spm, 10kph.csv')\n",
    "votes = []\n",
    "votes2 = []\n",
    "for i in range(202,len(file['0'])):\n",
    "    vote = np.mean([file[col].iloc[i] for col in PCA_Cols])\n",
    "    votes.append(vote)\n",
    "print(np.mean(votes)*60)\n",
    "for j in range(202,len(file['0'])):\n",
    "    vote2 = np.mean([file[str(col)+'_max_freq'].iloc[j] for col in Viable_Cols])\n",
    "    votes2.append(vote2)\n",
    "print(np.mean(votes2)*60)"
   ]
  },
  {
   "cell_type": "code",
   "execution_count": null,
   "metadata": {},
   "outputs": [],
   "source": []
  }
 ],
 "metadata": {
  "kernelspec": {
   "display_name": "ML4QSenv",
   "language": "python",
   "name": "python3"
  },
  "language_info": {
   "codemirror_mode": {
    "name": "ipython",
    "version": 3
   },
   "file_extension": ".py",
   "mimetype": "text/x-python",
   "name": "python",
   "nbconvert_exporter": "python",
   "pygments_lexer": "ipython3",
   "version": "3.8.8"
  },
  "orig_nbformat": 4
 },
 "nbformat": 4,
 "nbformat_minor": 2
}
